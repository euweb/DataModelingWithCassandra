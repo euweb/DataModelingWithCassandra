{
 "cells": [
  {
   "cell_type": "markdown",
   "metadata": {},
   "source": [
    "# Part I. ETL Pipeline for Pre-Processing the Files"
   ]
  },
  {
   "cell_type": "markdown",
   "metadata": {},
   "source": [
    "## PLEASE RUN THE FOLLOWING CODE FOR PRE-PROCESSING THE FILES"
   ]
  },
  {
   "cell_type": "markdown",
   "metadata": {},
   "source": [
    "#### Import Python packages "
   ]
  },
  {
   "cell_type": "code",
   "execution_count": null,
   "metadata": {},
   "outputs": [],
   "source": [
    "# Import Python packages \n",
    "import pandas as pd\n",
    "import cassandra\n",
    "from cassandra.query import BatchStatement\n",
    "import re\n",
    "import os\n",
    "import glob\n",
    "import numpy as np\n",
    "import json\n",
    "import csv\n",
    "import time\n",
    "from contextlib import contextmanager"
   ]
  },
  {
   "cell_type": "markdown",
   "metadata": {},
   "source": [
    "#### Define helper functions"
   ]
  },
  {
   "cell_type": "code",
   "execution_count": null,
   "metadata": {},
   "outputs": [],
   "source": [
    "def pandas_factory(colnames, rows):\n",
    "    \"\"\"\n",
    "    tuple factory to create pandas data frame from cassandra row data\n",
    "    \"\"\"\n",
    "    return pd.DataFrame(rows, columns=colnames)\n",
    "\n",
    "@contextmanager\n",
    "def measure_time(message='Finished in {}s.'):\n",
    "    \"\"\"\n",
    "    Description: messures execution time of decorated code\n",
    "\n",
    "    Arguments:\n",
    "        message: message to be shown at the end of execution. Use {} to display time in seconds.\n",
    " \n",
    "    Returns:\n",
    "        None\n",
    "    \"\"\"\n",
    "    start = time.time()\n",
    "\n",
    "    yield\n",
    "\n",
    "    elapsed = round(time.time() - start, 2)\n",
    "    print(message.format(elapsed))"
   ]
  },
  {
   "cell_type": "markdown",
   "metadata": {},
   "source": [
    "#### Creating list of filepaths to process original event csv data files"
   ]
  },
  {
   "cell_type": "code",
   "execution_count": null,
   "metadata": {},
   "outputs": [],
   "source": [
    "# checking your current working directory\n",
    "print(os.getcwd())\n",
    "\n",
    "# Get your current folder and subfolder event data\n",
    "filepath = os.getcwd() + '/event_data'\n",
    "\n",
    "# Create a for loop to create a list of files and collect each filepath\n",
    "for root, dirs, files in os.walk(filepath):\n",
    "    # join the file path and roots with the subdirectories using glob\n",
    "    file_path_list = glob.glob(os.path.join(root,'*'))\n",
    "#print(file_path_list)"
   ]
  },
  {
   "cell_type": "markdown",
   "metadata": {},
   "source": [
    "#### Processing the files to create the data file csv that will be used for Apache Casssandra tables"
   ]
  },
  {
   "cell_type": "code",
   "execution_count": null,
   "metadata": {},
   "outputs": [],
   "source": [
    "# initiating an empty list of rows that will be generated from each file\n",
    "full_data_rows_list = [] \n",
    "    \n",
    "# for every filepath in the file path list \n",
    "for f in file_path_list:\n",
    "\n",
    "# reading csv file \n",
    "    with open(f, 'r', encoding = 'utf8', newline='') as csvfile: \n",
    "        # creating a csv reader object \n",
    "        csvreader = csv.reader(csvfile) \n",
    "        next(csvreader)\n",
    "        \n",
    "# extracting each data row one by one and append it        \n",
    "        for line in csvreader:\n",
    "            #print(line)\n",
    "            full_data_rows_list.append(line) \n",
    "            \n",
    "# uncomment the code below if you would like to get total number of rows \n",
    "#print(len(full_data_rows_list))\n",
    "# uncomment the code below if you would like to check to see what the list of event data rows will look like\n",
    "#print(full_data_rows_list)\n",
    "\n",
    "# creating a smaller event data csv file called event_datafile_full csv that will be used to insert data into the \\\n",
    "# Apache Cassandra tables\n",
    "csv.register_dialect('myDialect', quoting=csv.QUOTE_ALL, skipinitialspace=True)\n",
    "\n",
    "with open('event_datafile_new.csv', 'w', encoding = 'utf8', newline='') as f:\n",
    "    writer = csv.writer(f, dialect='myDialect')\n",
    "    writer.writerow(['artist','firstName','gender','itemInSession','lastName','length',\\\n",
    "                'level','location','sessionId','song','userId'])\n",
    "    for row in full_data_rows_list:\n",
    "        if (row[0] == ''):\n",
    "            continue\n",
    "        writer.writerow((row[0], row[2], row[3], row[4], row[5], row[6], row[7], row[8], row[12], row[13], row[16]))\n"
   ]
  },
  {
   "cell_type": "code",
   "execution_count": null,
   "metadata": {},
   "outputs": [],
   "source": [
    "# check the number of rows in the csv file\n",
    "with open('event_datafile_new.csv', 'r', encoding = 'utf8') as f:\n",
    "    print(sum(1 for line in f))"
   ]
  },
  {
   "cell_type": "markdown",
   "metadata": {},
   "source": [
    "# Part II. Complete the Apache Cassandra coding portion of your project. \n",
    "\n",
    "## Now you are ready to work with the CSV file titled <font color=red>event_datafile_new.csv</font>, located within the Workspace directory.  The event_datafile_new.csv contains the following columns: \n",
    "- artist \n",
    "- firstName of user\n",
    "- gender of user\n",
    "- item number in session\n",
    "- last name of user\n",
    "- length of the song\n",
    "- level (paid or free song)\n",
    "- location of the user\n",
    "- sessionId\n",
    "- song title\n",
    "- userId\n",
    "\n",
    "The image below is a screenshot of what the denormalized data should appear like in the <font color=red>**event_datafile_new.csv**</font> after the code above is run:<br>\n",
    "\n",
    "<img src=\"images/image_event_datafile_new.jpg\">"
   ]
  },
  {
   "cell_type": "markdown",
   "metadata": {},
   "source": [
    "## Begin writing your Apache Cassandra code in the cells below"
   ]
  },
  {
   "cell_type": "markdown",
   "metadata": {},
   "source": [
    "#### Creating a Cluster"
   ]
  },
  {
   "cell_type": "code",
   "execution_count": null,
   "metadata": {},
   "outputs": [],
   "source": [
    "# Make a connection to a Cassandra instance \n",
    "# (127.0.0.1)\n",
    "db_host = os.getenv('DB_HOST', 'localhost')\n",
    "# print(db_host)\n",
    "\n",
    "from cassandra.cluster import Cluster\n",
    "cluster = Cluster([db_host])\n",
    "\n",
    "# To establish connection and begin executing queries, need a session\n",
    "session = cluster.connect()\n",
    "session.row_factory = pandas_factory"
   ]
  },
  {
   "cell_type": "markdown",
   "metadata": {},
   "source": [
    "#### Create Keyspace"
   ]
  },
  {
   "cell_type": "code",
   "execution_count": null,
   "metadata": {},
   "outputs": [],
   "source": [
    "# Create a Keyspace \n",
    "session.execute(\"\"\"\n",
    "        CREATE KEYSPACE IF NOT EXISTS udacity\n",
    "        WITH REPLICATION = \n",
    "        { 'class' : 'SimpleStrategy', 'replication_factor' : 1 }\"\"\"\n",
    ")"
   ]
  },
  {
   "cell_type": "markdown",
   "metadata": {},
   "source": [
    "#### Set Keyspace"
   ]
  },
  {
   "cell_type": "code",
   "execution_count": null,
   "metadata": {},
   "outputs": [],
   "source": [
    "# Set KEYSPACE to the keyspace specified above\n",
    "session.set_keyspace(\"udacity\")"
   ]
  },
  {
   "cell_type": "markdown",
   "metadata": {},
   "source": [
    "## Query 1:  \n",
    "## Give me the artist, song title and song's length in the music app history that was heard during sessionId = 338, and itemInSession = 4\n",
    "\n",
    "SessionId only is not enough to uniquely identify each row. So we use the combination of sesseionId and itemInSession as primary key. On the other hand there will be not too much data returned by using only sessionId in the where-clause, so we use only sessionId as partition key."
   ]
  },
  {
   "cell_type": "code",
   "execution_count": null,
   "metadata": {},
   "outputs": [],
   "source": [
    "query = \"\"\"CREATE TABLE IF NOT EXISTS song_info_by_session_and_item (\n",
    "                sessionId int,\n",
    "                itemInSession int,\n",
    "                artist text,\n",
    "                song text,\n",
    "                length float,\n",
    "           PRIMARY KEY (sessionId, itemInSession))\n",
    "\"\"\"\n",
    "\n",
    "session.execute(query)"
   ]
  },
  {
   "cell_type": "code",
   "execution_count": null,
   "metadata": {},
   "outputs": [],
   "source": [
    "# We have provided part of the code to set up the CSV file. Please complete the Apache Cassandra code below#\n",
    "with measure_time():\n",
    "        file = 'event_datafile_new.csv'\n",
    "\n",
    "        with open(file, encoding = 'utf8') as f:\n",
    "            csvreader = csv.reader(f)\n",
    "            next(csvreader) # skip header\n",
    "            for line in csvreader:\n",
    "        ## Assign the INSERT statements into the `query` variable\n",
    "                query = \"INSERT INTO song_info_by_session_and_item (sessionId, itemInSession, artist, song, length)\"\n",
    "                query = query + \"VALUES (%s, %s, %s, %s, %s)\"\n",
    "                ## Assign which column element should be assigned for each column in the INSERT statement.\n",
    "                ## For e.g., to INSERT artist_name and user first_name, you would change the code below to `line[0], line[1]`\n",
    "                session.execute(query, (int(line[8]), int(line[3]), line[0], line[9], float(line[5])))"
   ]
  },
  {
   "cell_type": "markdown",
   "metadata": {},
   "source": [
    "#### Do a SELECT to verify that the data have been inserted into each table"
   ]
  },
  {
   "cell_type": "code",
   "execution_count": null,
   "metadata": {},
   "outputs": [],
   "source": [
    "## Add in the SELECT statement to verify the data was entered into the table\n",
    "query = \"select artist, song, length from song_info_by_session_and_item where sessionId=338 and itemInSession=4\"\n",
    "\n",
    "df = session.execute(query)._current_rows\n",
    "df"
   ]
  },
  {
   "cell_type": "markdown",
   "metadata": {},
   "source": [
    "## Query 2:\n",
    "## Give me only the following: name of artist, song (sorted by itemInSession) and user (first and last name) for userId = 10, sessionId = 182\n",
    "\n",
    "We don't know if the sessionIds are unique for each user or not. That's why we use the combination of both of them to specify the partition key. "
   ]
  },
  {
   "cell_type": "code",
   "execution_count": null,
   "metadata": {},
   "outputs": [],
   "source": [
    "query = \"\"\"CREATE TABLE IF NOT EXISTS song_and_user_info_by_user_and_session (\n",
    "                userId int,\n",
    "                sessionId int,\n",
    "                itemInSession int,\n",
    "                artist text,\n",
    "                song text,\n",
    "                firstName text,\n",
    "                lastName text,\n",
    "            PRIMARY KEY ((userId, sessionId), itemInSession));\n",
    "\"\"\"\n",
    "\n",
    "session.execute(query)"
   ]
  },
  {
   "cell_type": "code",
   "execution_count": null,
   "metadata": {},
   "outputs": [],
   "source": [
    "with measure_time(\"\\n Using BatchStatement: {}s.\"):\n",
    "    file = 'event_datafile_new.csv'\n",
    "    batch = BatchStatement()\n",
    "    chunksize = 450\n",
    "    i = 0\n",
    "    with open(file, encoding = 'utf8') as f:\n",
    "        csvreader = csv.reader(f)\n",
    "        next(csvreader) # skip header\n",
    "        for line in csvreader:\n",
    "            i+=1\n",
    "            query = \"INSERT INTO song_and_user_info_by_user_and_session (userId, sessionId, itemInSession, artist, song, firstName, lastName)\"\n",
    "            query = query + \"VALUES (%s, %s, %s, %s, %s, %s, %s)\"\n",
    "            batch.add(cassandra.query.SimpleStatement(query), (int(line[10]), int(line[8]), int(line[3]), line[0], line[9], line[1], line[4]))\n",
    "            if(i%chunksize == 0):\n",
    "                session.execute(batch)\n",
    "                batch = cassandra.query.BatchStatement()\n",
    "                i=0\n",
    "        if(i!=0):\n",
    "            #process the last chunk, if needed \n",
    "            session.execute(batch)"
   ]
  },
  {
   "cell_type": "code",
   "execution_count": null,
   "metadata": {},
   "outputs": [],
   "source": [
    "## SELECT statement to verify the data was entered into the table\n",
    "query = \"select artist, song, firstName, lastName from song_and_user_info_by_user_and_session where userId=10 and sessionId=182\"\n",
    "\n",
    "df = session.execute(query)._current_rows\n",
    "df"
   ]
  },
  {
   "cell_type": "markdown",
   "metadata": {},
   "source": [
    "## Query 3: \n",
    "## Give me every user name (first and last) in my music app history who listened to the song 'All Hands Against His Own'\n",
    "\n",
    "We assume that song is enough to be the only partition key and the combination with the userId is not needed. \n",
    "\n",
    "If the combination of first and last name were unique, we could remove userId from this table at all and so sort the query result by first or last name."
   ]
  },
  {
   "cell_type": "code",
   "execution_count": null,
   "metadata": {},
   "outputs": [],
   "source": [
    "query = \"\"\"CREATE TABLE IF NOT EXISTS user_info_by_song (\n",
    "                song text,\n",
    "                userId int,\n",
    "                firstName text,\n",
    "                lastName text,\n",
    "            PRIMARY KEY (song, userId));\n",
    "\"\"\"\n",
    "\n",
    "session.execute(query)"
   ]
  },
  {
   "cell_type": "code",
   "execution_count": null,
   "metadata": {},
   "outputs": [],
   "source": [
    "with measure_time(\"\\n Using BatchStatement: {}s.\"):\n",
    "    file = 'event_datafile_new.csv'\n",
    "    batch = BatchStatement()\n",
    "    chunksize = 450\n",
    "    i = 0\n",
    "    with open(file, encoding = 'utf8') as f:\n",
    "        csvreader = csv.reader(f)\n",
    "        next(csvreader) # skip header\n",
    "        for line in csvreader:\n",
    "            i+=1\n",
    "            query = \"INSERT INTO user_info_by_song (song, userId, firstName, lastName)\"\n",
    "            query = query + \"VALUES (%s, %s, %s, %s)\"\n",
    "            batch.add(cassandra.query.SimpleStatement(query), (line[9], int(line[10]), line[1], line[4]))\n",
    "            if(i%chunksize == 0):\n",
    "                session.execute(batch)\n",
    "                batch = cassandra.query.BatchStatement()\n",
    "                i=0\n",
    "        if(i!=0):\n",
    "            #process the last chunk, if needed \n",
    "            session.execute(batch)"
   ]
  },
  {
   "cell_type": "code",
   "execution_count": null,
   "metadata": {},
   "outputs": [],
   "source": [
    "## SELECT statement to verify the data was entered into the table\n",
    "query = \"select firstName, lastName from user_info_by_song where song='All Hands Against His Own'\"\n",
    "\n",
    "df = session.execute(query)._current_rows\n",
    "df"
   ]
  },
  {
   "cell_type": "markdown",
   "metadata": {},
   "source": [
    "### Drop the tables before closing out the sessions"
   ]
  },
  {
   "cell_type": "code",
   "execution_count": null,
   "metadata": {},
   "outputs": [],
   "source": [
    "## Drop the table before closing out the sessions"
   ]
  },
  {
   "cell_type": "code",
   "execution_count": null,
   "metadata": {},
   "outputs": [],
   "source": [
    "session.execute('drop table song_info_by_session_and_item')\n",
    "session.execute('drop table song_and_user_info_by_user_and_session')\n",
    "session.execute('drop table user_info_by_song')"
   ]
  },
  {
   "cell_type": "markdown",
   "metadata": {},
   "source": [
    "### Close the session and cluster connection¶"
   ]
  },
  {
   "cell_type": "code",
   "execution_count": null,
   "metadata": {},
   "outputs": [],
   "source": [
    "session.shutdown()\n",
    "cluster.shutdown()"
   ]
  },
  {
   "cell_type": "code",
   "execution_count": null,
   "metadata": {},
   "outputs": [],
   "source": []
  }
 ],
 "metadata": {
  "kernelspec": {
   "display_name": "Python 3",
   "language": "python",
   "name": "python3"
  },
  "language_info": {
   "codemirror_mode": {
    "name": "ipython",
    "version": 3
   },
   "file_extension": ".py",
   "mimetype": "text/x-python",
   "name": "python",
   "nbconvert_exporter": "python",
   "pygments_lexer": "ipython3",
   "version": "3.8.6"
  }
 },
 "nbformat": 4,
 "nbformat_minor": 4
}